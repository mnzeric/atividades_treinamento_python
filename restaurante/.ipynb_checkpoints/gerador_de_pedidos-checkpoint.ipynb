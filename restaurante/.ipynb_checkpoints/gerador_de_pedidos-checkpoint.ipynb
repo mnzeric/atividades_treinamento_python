{
 "cells": [
  {
   "cell_type": "code",
   "execution_count": 1,
   "metadata": {},
   "outputs": [],
   "source": [
    "import pandas as pd\n",
    "import random\n",
    "import os\n",
    "from time import sleep\n",
    "from untils.my_functions import *\n",
    "from configparser import ConfigParser"
   ]
  },
  {
   "cell_type": "code",
   "execution_count": 2,
   "metadata": {},
   "outputs": [],
   "source": [
    "def main():\n",
    "    tb_codigos = config_default.get('DEFAULT','tb_cod_produtos')\n",
    "    tb_garcons = config_default.get('DEFAULT','tb_garcons')\n",
    "    codigos = pd.read_csv(tb_codigos)\n",
    "    garcons = pd.read_csv(tb_garcons,sep='|')\n",
    "    qtd_mesa = int(config_default.get('DEFAULT','mesas'))\n",
    "    #geradora de arquvos com os pedidos\n",
    "    for mesa in range(1,qtd_mesa + 1):\n",
    "        numero_pedidos = random.randint(1,10)\n",
    "        atendente = escolhe_opcao(garcons)[0]\n",
    "        pedido = gera_pedido(codigos)\n",
    "        pedido['atendente'] = atendente\n",
    "        df_pedido = pd.DataFrame(pedido,index=[0])\n",
    "        for i in range(numero_pedidos):\n",
    "            pedido = gera_pedido(codigos)\n",
    "            atendente = escolhe_opcao(garcons)[0]\n",
    "            pedido['atendente'] = atendente\n",
    "            df_pedido2 =  pd.DataFrame(pedido,index=[0])\n",
    "            df_pedido = pd.concat([df_pedido,df_pedido2])\n",
    "        df_pedido[['atendente','quantidade','produto']].to_csv('pedidos/mesa_' + str(mesa) + '.csv', sep='\\t',index=False,header=False)\n",
    "        sleep(2)"
   ]
  },
  {
   "cell_type": "code",
   "execution_count": null,
   "metadata": {},
   "outputs": [],
   "source": [
    "if __name__ == '__main__':\n",
    "    config_default = ConfigParser()\n",
    "    config_default.read('config/config.ini')\n",
    "    rodadas = int(config_default.get('DEFAULT','rodadas'))\n",
    "    for i in range(rodadas):\n",
    "        main()\n",
    "        sleep(15)\n",
    "    with open('pedidos/fim.txt','w') as f:\n",
    "        f.write('OK')"
   ]
  },
  {
   "cell_type": "code",
   "execution_count": null,
   "metadata": {},
   "outputs": [],
   "source": []
  }
 ],
 "metadata": {
  "kernelspec": {
   "display_name": "Python 3",
   "language": "python",
   "name": "python3"
  },
  "language_info": {
   "codemirror_mode": {
    "name": "ipython",
    "version": 3
   },
   "file_extension": ".py",
   "mimetype": "text/x-python",
   "name": "python",
   "nbconvert_exporter": "python",
   "pygments_lexer": "ipython3",
   "version": "3.8.5"
  }
 },
 "nbformat": 4,
 "nbformat_minor": 4
}
