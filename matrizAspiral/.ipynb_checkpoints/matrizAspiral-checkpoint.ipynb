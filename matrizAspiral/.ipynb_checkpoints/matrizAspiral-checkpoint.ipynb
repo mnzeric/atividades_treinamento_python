{
 "cells": [
  {
   "cell_type": "code",
   "execution_count": 9,
   "metadata": {},
   "outputs": [
    {
     "name": "stdout",
     "output_type": "stream",
     "text": [
      "1\n",
      "2\n",
      "3\n",
      "4\n",
      "5\n",
      "6\n",
      "7\n",
      "8\n",
      "9\n",
      "10\n",
      "11\n",
      "12\n",
      "13\n",
      "14\n",
      "15\n",
      "16\n",
      "0\n",
      "[1, 2, 3, 4]\n",
      "[12, 13, 14, 5]\n",
      "[11, 16, 15, 6]\n",
      "[10, 9, 8, 7]\n"
     ]
    }
   ],
   "source": [
    "import math\n",
    "\n",
    "numeros = []\n",
    "\n",
    "n = int(input())\n",
    "\n",
    "while n != 0:\n",
    "    numeros.append(n)\n",
    "    n = int(input())\n",
    "        \n",
    "ordem = math.ceil(math.sqrt(len(numeros)))\n",
    "\n",
    "matOrd = [[] for i in range(ordem)]\n",
    "\n",
    "for linha in matOrd:\n",
    "    for i in range(ordem):\n",
    "        linha.append(i)\n",
    "\n",
    "if ordem % 2 == 0:\n",
    "    ciclos = ordem / 2\n",
    "else:\n",
    "    ciclos = (ordem + 1) / 2\n",
    "    \n",
    "limVer = [0,ordem-1]\n",
    "limHor = [0,ordem-1]\n",
    "\n",
    "while ciclos > 0:\n",
    "    #direita\n",
    "    for i in range(limHor[0],limHor[1]+1):\n",
    "        matOrd[limVer[0]][i] = numeros.pop(0)\n",
    "\n",
    "    \n",
    "    limVer[0] += 1\n",
    "    \n",
    "    #baixo\n",
    "    for i in range(limVer[0],limVer[1]+1):\n",
    "        matOrd[i][limHor[1]] = numeros.pop(0)\n",
    "\n",
    "        \n",
    "    limHor[1] -= 1\n",
    "    \n",
    "    #esquerda\n",
    "    for i in range(limHor[1],limHor[0]-1, -1):\n",
    "        matOrd[limVer[1]][i] = numeros.pop(0)\n",
    "\n",
    "        \n",
    "    limVer[1] -= 1\n",
    "    \n",
    "    #cima\n",
    "    for i in range(limVer[1],limVer[0]-1, -1):\n",
    "        matOrd[i][limHor[0]] = numeros.pop(0)\n",
    "\n",
    "        \n",
    "    limHor[0] += 1\n",
    "    ciclos -= 1\n",
    "    \n",
    "print(*matOrd, sep='\\n')"
   ]
  },
  {
   "cell_type": "code",
   "execution_count": null,
   "metadata": {},
   "outputs": [],
   "source": []
  }
 ],
 "metadata": {
  "kernelspec": {
   "display_name": "Python 3",
   "language": "python",
   "name": "python3"
  },
  "language_info": {
   "codemirror_mode": {
    "name": "ipython",
    "version": 3
   },
   "file_extension": ".py",
   "mimetype": "text/x-python",
   "name": "python",
   "nbconvert_exporter": "python",
   "pygments_lexer": "ipython3",
   "version": "3.8.5"
  }
 },
 "nbformat": 4,
 "nbformat_minor": 4
}
