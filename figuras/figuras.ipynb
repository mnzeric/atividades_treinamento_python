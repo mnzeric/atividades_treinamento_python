{
 "cells": [
  {
   "cell_type": "code",
   "execution_count": 34,
   "metadata": {},
   "outputs": [],
   "source": [
    "def retangulo(char,linhas,colunas):\n",
    "    for i in range(0,linhas):\n",
    "        print((char + ' ')* colunas)\n",
    "        \n",
    "def trianguloRetangulo(char,linhas):\n",
    "    for i in range(0,linhas):\n",
    "        print((char + ' ') * (i+1))\n",
    "         \n",
    "def trianguloEquilatero(char,base):\n",
    "    if base % 2 != 0:\n",
    "        n = base // 2\n",
    "        c = 1\n",
    "        while n >= 0:\n",
    "            print ((' ' + ' ') * n + (char + ' ') * c)\n",
    "            n -= 1\n",
    "            c += 2\n",
    "    else:\n",
    "        n = base - 1\n",
    "        c = 1\n",
    "        while n >= 0:\n",
    "            print ((' ') * n + (char + ' ') * c)\n",
    "            n -= 1\n",
    "            c += 1\n",
    "        \n",
    "def losangulo(char,diagonal):\n",
    "    if diagonal % 2 != 0:\n",
    "        n = diagonal // 2\n",
    "        v = n\n",
    "        c = 1\n",
    "        while n >= -v:\n",
    "            if n > 0:\n",
    "                print ((' ' + ' ') * n + (char + ' ') * c)\n",
    "                n -= 1\n",
    "                c += 2\n",
    "            else:\n",
    "                print ((' ' + ' ') * abs(n) + (char + ' ') * c)\n",
    "                n -= 1\n",
    "                c -= 2\n",
    "    else:\n",
    "        n = diagonal - 1\n",
    "        v = n\n",
    "        c = 1\n",
    "        while n >= -v:\n",
    "            if n > 0:\n",
    "                print ((' ') * n + (char + ' ') * c)\n",
    "                n -= 1\n",
    "                c += 1\n",
    "            else:\n",
    "                print ((' ') * abs(n) + (char + ' ') * c)\n",
    "                n -= 1\n",
    "                c -= 1\n",
    "\n"
   ]
  },
  {
   "cell_type": "code",
   "execution_count": null,
   "metadata": {},
   "outputs": [],
   "source": []
  }
 ],
 "metadata": {
  "kernelspec": {
   "display_name": "Python 3",
   "language": "python",
   "name": "python3"
  },
  "language_info": {
   "codemirror_mode": {
    "name": "ipython",
    "version": 3
   },
   "file_extension": ".py",
   "mimetype": "text/x-python",
   "name": "python",
   "nbconvert_exporter": "python",
   "pygments_lexer": "ipython3",
   "version": "3.8.5"
  }
 },
 "nbformat": 4,
 "nbformat_minor": 4
}
