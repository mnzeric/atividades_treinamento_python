{
 "cells": [
  {
   "cell_type": "code",
   "execution_count": 24,
   "metadata": {},
   "outputs": [
    {
     "name": "stdout",
     "output_type": "stream",
     "text": [
      "2\n",
      "\n",
      "0 0 0 0 1\n",
      "1 1 0 0 1\n",
      "0 1 0 0 0\n",
      "0 0 0 1 1\n",
      "1 1 0 0 0\n",
      "\n",
      "0 0 0 0 1\n",
      "1 1 0 0 1\n",
      "0 1 0 0 0\n",
      "0 0 1 1 1\n",
      "1 1 0 0 0\n",
      "COPS\n",
      "ROBBERS\n"
     ]
    }
   ],
   "source": [
    "def resolveLab(lab):\n",
    "    saida = ['4','4']\n",
    "    rotas = []\n",
    "    cop = [0,0]\n",
    "       \n",
    "    if lab[0][0] == '1':\n",
    "        return 'ROBBERS'\n",
    "    else:\n",
    "        rotas.append([0,0])\n",
    "        lab[0][0] = 'X'\n",
    "        \n",
    "        for cop in rotas:\n",
    "                cima = int(cop[0]) - 1\n",
    "                baixo = int(cop[0]) + 1\n",
    "                esq = int(cop[1]) - 1\n",
    "                dir = int(cop[1]) + 1\n",
    "                \n",
    "                if (cima > -1 and cima < 5):\n",
    "                    if (lab[cima][int(cop[1])] == '0'):\n",
    "                        rotas.append([str(cima),str(cop[1])])\n",
    "                        lab[cima][int(cop[1])] = 'X'\n",
    "                \n",
    "                if (baixo > -1 and baixo < 5):\n",
    "                    if (lab[baixo][int(cop[1])] == '0'):\n",
    "                        rotas.append([str(baixo),str(cop[1])])\n",
    "                        lab[baixo][int(cop[1])] = 'X'\n",
    "                        \n",
    "                if (esq > -1 and esq < 5):\n",
    "                    if (lab[int(cop[0])][esq] == '0'):\n",
    "                        rotas.append([str(cop[0]),str(esq)])\n",
    "                        lab[int(cop[0])][esq] = 'X'\n",
    "                        \n",
    "                if (dir > -1 and dir < 5):\n",
    "                    if (lab[int(cop[0])][dir] == '0'):\n",
    "                        rotas.append([str(cop[0]),str(dir)])\n",
    "                        lab[int(cop[0])][dir] = 'X'\n",
    "                        \n",
    "        if saida in rotas:\n",
    "                return 'COPS'\n",
    "        else:\n",
    "                return 'ROBBERS'\n",
    "    \n",
    "n = int(input())\n",
    "labirintos = []\n",
    "for t in range(0,n):\n",
    "    espaco = input()\n",
    "    labirinto = []\n",
    "    for i in range(0,5):\n",
    "        labirinto.append(input().split())\n",
    "    labirintos.append(labirinto)\n",
    "\n",
    "for labirinto in labirintos:\n",
    "    print(resolveLab(labirinto))\n",
    "    "
   ]
  },
  {
   "cell_type": "code",
   "execution_count": null,
   "metadata": {},
   "outputs": [],
   "source": [
    "'''\n",
    "0 0 0 0 1\n",
    "1 1 0 0 1\n",
    "0 1 0 0 0\n",
    "0 0 0 1 1\n",
    "1 1 0 0 0\n",
    " \n",
    "0 0 0 0 1\n",
    "1 1 0 0 1\n",
    "0 1 0 0 0\n",
    "0 0 1 1 1\n",
    "1 1 0 0 0 \n",
    "'''"
   ]
  }
 ],
 "metadata": {
  "kernelspec": {
   "display_name": "Python 3",
   "language": "python",
   "name": "python3"
  },
  "language_info": {
   "codemirror_mode": {
    "name": "ipython",
    "version": 3
   },
   "file_extension": ".py",
   "mimetype": "text/x-python",
   "name": "python",
   "nbconvert_exporter": "python",
   "pygments_lexer": "ipython3",
   "version": "3.8.5"
  }
 },
 "nbformat": 4,
 "nbformat_minor": 4
}
