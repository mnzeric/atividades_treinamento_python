{
 "cells": [
  {
   "cell_type": "code",
   "execution_count": 1,
   "metadata": {},
   "outputs": [],
   "source": [
    "from functools import reduce"
   ]
  },
  {
   "cell_type": "code",
   "execution_count": 2,
   "metadata": {},
   "outputs": [
    {
     "name": "stdout",
     "output_type": "stream",
     "text": [
      "o rato roeu a roupa do rei de roma\n",
      "o otar ueor a apuor od ier ed amor\n"
     ]
    }
   ],
   "source": [
    "inverteString = ' '.join(list(map(lambda x: x[::-1], input().split())))\n",
    "print(inverteString)"
   ]
  },
  {
   "cell_type": "code",
   "execution_count": 3,
   "metadata": {},
   "outputs": [
    {
     "name": "stdout",
     "output_type": "stream",
     "text": [
      "[7.5, 5.0, 7.0, 5.5, 9.5]\n",
      "[7.5, 7.0, 9.5]\n",
      "[5.0, 5.5]\n",
      "['7.5 Aprovado', '5.0 Reprovado', '7.0 Aprovado', '5.5 Reprovado', '9.5 Aprovado']\n",
      "6.9\n"
     ]
    }
   ],
   "source": [
    "notas = [(8,7),(3,7),(9,5),(2,9),(10,9)]\n",
    "medias = list(map(lambda x: (x[0] + x[1])/2, notas))\n",
    "print(medias)\n",
    "\n",
    "aprovados = list(filter(lambda x: x >= 7, medias))\n",
    "print(aprovados)\n",
    "\n",
    "reprovados = list(filter(lambda x: x < 7, medias))\n",
    "print(reprovados)\n",
    "\n",
    "aprovadosReprovados = list(map(lambda r: str(r)+' Aprovado' if r >= 7 else str(r)+' Reprovado', medias))\n",
    "print(aprovadosReprovados)\n",
    "\n",
    "mediaSala = reduce(lambda n,m: n+m, medias)/len(medias)\n",
    "print(mediaSala)\n"
   ]
  },
  {
   "cell_type": "code",
   "execution_count": 4,
   "metadata": {},
   "outputs": [
    {
     "name": "stdout",
     "output_type": "stream",
     "text": [
      "6\n",
      "720\n"
     ]
    }
   ],
   "source": [
    "fatorial = reduce(lambda x,y: x*y, map(lambda x: 1 if x == 0 else x, range(0,int(input())+1)))\n",
    "print(fatorial)"
   ]
  },
  {
   "cell_type": "code",
   "execution_count": null,
   "metadata": {},
   "outputs": [],
   "source": []
  }
 ],
 "metadata": {
  "kernelspec": {
   "display_name": "Python 3",
   "language": "python",
   "name": "python3"
  },
  "language_info": {
   "codemirror_mode": {
    "name": "ipython",
    "version": 3
   },
   "file_extension": ".py",
   "mimetype": "text/x-python",
   "name": "python",
   "nbconvert_exporter": "python",
   "pygments_lexer": "ipython3",
   "version": "3.8.5"
  }
 },
 "nbformat": 4,
 "nbformat_minor": 4
}
