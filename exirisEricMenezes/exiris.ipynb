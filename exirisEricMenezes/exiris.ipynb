{
 "cells": [
  {
   "cell_type": "code",
   "execution_count": 7,
   "metadata": {},
   "outputs": [
    {
     "name": "stdout",
     "output_type": "stream",
     "text": [
      "--- executado em 0.013992071151733398 segundos ---\n"
     ]
    }
   ],
   "source": [
    "import time\n",
    "start_time = time.time()\n",
    "arqSeparado = []\n",
    "\n",
    "#transformando o csv em uma lista    \n",
    "arqBruto = open(\"iris.csv\",\"r\")\n",
    "linhas = arqBruto.read().split(\"\\n\")\n",
    "for linha in linhas:\n",
    "    if linha != \"\":\n",
    "        linha = linha.split(\",\")\n",
    "        arqSeparado.append(linha)\n",
    "        \n",
    "def medias():\n",
    "    especies,mediaPorEspecie = [],[]\n",
    "    #pega as especies disponíveis no csv\n",
    "    for item in arqSeparado:\n",
    "        if (arqSeparado.index(item) != 0 and item[4] not in especies):\n",
    "            especies.append(item[4])\n",
    "    #chama a funcao da media para cada especie\n",
    "    for item in especies:\n",
    "        calculaMedias(item)\n",
    "    #le os arquivos criados e armazena a linha com o valor das medias em um array    \n",
    "    for item in especies:\n",
    "        arq = open(item + \".csv\",\"r\")\n",
    "        linhas = arq.read().split(\"\\n\")\n",
    "        mediaPorEspecie.append(linhas[1] + \" | \" + item)\n",
    "    #por fim, grava o arquivo geral\n",
    "    arqg = open(\"geral.csv\",\"w\")\n",
    "    arqg.write(\"|\".join(arqSeparado[0][:5]))\n",
    "    arqg.write(\"\\n\")\n",
    "    for item in mediaPorEspecie:\n",
    "        arqg.write(item)\n",
    "        arqg.write(\"\\n\")\n",
    "    arqg.close()\n",
    "\n",
    "def calculaMedias(especie):\n",
    "    col1,col2,col3,col4,medias = [],[],[],[],[]\n",
    "    for item in arqSeparado:\n",
    "        if (arqSeparado.index(item) != 0 and item[4] == especie):\n",
    "            col1.append(float(item[0]))\n",
    "            col2.append(float(item[1]))\n",
    "            col3.append(float(item[2]))\n",
    "            col4.append(float(item[3]))\n",
    "    m1 = sum(col1) / len(col1)\n",
    "    m2 = sum(col2) / len(col2)\n",
    "    m3 = sum(col3) / len(col3)\n",
    "    m4 = sum(col4) / len(col4)\n",
    "    medias.append(\"{:.3f}\".format(m1))\n",
    "    medias.append(\"{:.3f}\".format(m2))\n",
    "    medias.append(\"{:.3f}\".format(m3))\n",
    "    medias.append(\"{:.3f}\".format(m4))\n",
    "    arqf = open(especie.strip(\"\\\"\") +\".csv\",\"w\")\n",
    "    arqf.write(\"|\".join(arqSeparado[0][:4]))\n",
    "    arqf.write(\"\\n\")\n",
    "    arqf.write(\"|\".join(medias))\n",
    "    arqf.close()\n",
    "\n",
    "        \n",
    "medias()\n",
    "print(\"--- executado em %s segundos ---\" % (time.time() - start_time))"
   ]
  },
  {
   "cell_type": "code",
   "execution_count": null,
   "metadata": {},
   "outputs": [],
   "source": []
  }
 ],
 "metadata": {
  "kernelspec": {
   "display_name": "Python 3",
   "language": "python",
   "name": "python3"
  },
  "language_info": {
   "codemirror_mode": {
    "name": "ipython",
    "version": 3
   },
   "file_extension": ".py",
   "mimetype": "text/x-python",
   "name": "python",
   "nbconvert_exporter": "python",
   "pygments_lexer": "ipython3",
   "version": "3.8.5"
  }
 },
 "nbformat": 4,
 "nbformat_minor": 4
}
