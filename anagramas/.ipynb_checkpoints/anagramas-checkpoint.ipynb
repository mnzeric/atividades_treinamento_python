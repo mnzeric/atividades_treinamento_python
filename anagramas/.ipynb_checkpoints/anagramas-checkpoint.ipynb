{
 "cells": [
  {
   "cell_type": "code",
   "execution_count": 2,
   "metadata": {},
   "outputs": [
    {
     "name": "stdout",
     "output_type": "stream",
     "text": [
      "['arrastei', 'arrestai', 'arretais', 'arriaste', 'aterrais', 'atirares', 'estirara', 'iteraras', 'rasteira', 'rasteira', 'rasteira', 'rastreai', 'rastreia', 'ratareis', 'restaria', 'retraias', 'tarareis', 'traseira']\n",
      "1.4950745105743408\n"
     ]
    }
   ],
   "source": [
    "import time\n",
    "\n",
    "t1 = time.time()\n",
    "\n",
    "with open('input.txt', 'r') as file:\n",
    "    palavras = file.read().splitlines()\n",
    "    \n",
    "\n",
    "anagramasDic = {}\n",
    "anagramasList = []\n",
    "\n",
    "for palavra in palavras:\n",
    "    sortedPalavra = (''.join(sorted(palavra.lower())))\n",
    "    if sortedPalavra in anagramasDic:\n",
    "        anagramasDic[sortedPalavra].append(palavra)\n",
    "    else:\n",
    "        anagramasDic[sortedPalavra] = [palavra]\n",
    "       \n",
    "for lista in anagramasDic.values():\n",
    "    anagramasList.append(lista)\n",
    "\n",
    "maiorGrupo = max(anagramasList, key = len)\n",
    "\n",
    "\n",
    "print(maiorGrupo)\n",
    "print(time.time() - t1)"
   ]
  },
  {
   "cell_type": "code",
   "execution_count": null,
   "metadata": {},
   "outputs": [],
   "source": []
  }
 ],
 "metadata": {
  "kernelspec": {
   "display_name": "Python 3",
   "language": "python",
   "name": "python3"
  },
  "language_info": {
   "codemirror_mode": {
    "name": "ipython",
    "version": 3
   },
   "file_extension": ".py",
   "mimetype": "text/x-python",
   "name": "python",
   "nbconvert_exporter": "python",
   "pygments_lexer": "ipython3",
   "version": "3.8.5"
  }
 },
 "nbformat": 4,
 "nbformat_minor": 4
}
