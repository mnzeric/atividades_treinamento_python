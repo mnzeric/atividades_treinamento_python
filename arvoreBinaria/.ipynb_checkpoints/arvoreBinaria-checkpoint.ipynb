{
 "cells": [
  {
   "cell_type": "code",
   "execution_count": null,
   "metadata": {},
   "outputs": [],
   "source": [
    "n = int(input())\n",
    "a = int(input())\n",
    "b = int(input())\n",
    "\n",
    "arv = []\n",
    "\n",
    "num = n ** 2\n",
    "\n",
    "for i in range (num):\n",
    "    arv.append(i)\n",
    "    \n",
    "def noComum(arv,a,b):\n",
    "    if a in arv and b in arv:\n",
    "        la, lb = [], [] \n",
    "        while a > 0 or b > 0:\n",
    "            if a % 2 == 0:\n",
    "                la.append(a)\n",
    "                a = (a-2)/2\n",
    "            else:\n",
    "                la.append(a)\n",
    "                a = (a-1)/2\n",
    "            if b % 2 == 0:\n",
    "                lb.append(b)\n",
    "                b = (b-2)/2\n",
    "            else:\n",
    "                lb.append(b)\n",
    "                b = (b-1)/2\n",
    "        li = [x for x in la if x in lb]\n",
    "        if not li:\n",
    "            print(0)\n",
    "        else:\n",
    "            print(max(li))\n",
    "    else:\n",
    "        print('Os nós não estão presentes na árvore')\n",
    "    \n",
    "noComum(arv,a,b)"
   ]
  },
  {
   "cell_type": "code",
   "execution_count": null,
   "metadata": {},
   "outputs": [],
   "source": []
  }
 ],
 "metadata": {
  "kernelspec": {
   "display_name": "Python 3",
   "language": "python",
   "name": "python3"
  },
  "language_info": {
   "codemirror_mode": {
    "name": "ipython",
    "version": 3
   },
   "file_extension": ".py",
   "mimetype": "text/x-python",
   "name": "python",
   "nbconvert_exporter": "python",
   "pygments_lexer": "ipython3",
   "version": "3.8.5"
  }
 },
 "nbformat": 4,
 "nbformat_minor": 4
}
